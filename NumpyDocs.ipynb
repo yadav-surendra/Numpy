{
 "cells": [
  {
   "cell_type": "code",
   "execution_count": 28,
   "id": "b7d74b58-ea1b-4069-ac99-e920b677090c",
   "metadata": {},
   "outputs": [
    {
     "name": "stdout",
     "output_type": "stream",
     "text": [
      "Hello world, welcome to the world of NUmPy!!\n"
     ]
    }
   ],
   "source": [
    "print(\"Hello world, welcome to the world of NUmPy!!\")"
   ]
  },
  {
   "cell_type": "code",
   "execution_count": 10,
   "id": "d1395a92-2a0e-4d1d-9de4-e975e61d921e",
   "metadata": {},
   "outputs": [],
   "source": [
    "# importing numpy library sa np"
   ]
  },
  {
   "cell_type": "code",
   "execution_count": 6,
   "id": "c341f59c-8ebf-444c-89e5-5ffacaeba48c",
   "metadata": {},
   "outputs": [],
   "source": [
    "import numpy as np\n",
    "a = np.array([[1,2,3],[2,3,4]])"
   ]
  },
  {
   "cell_type": "code",
   "execution_count": 8,
   "id": "a4e34ca7-808b-4348-8482-62c1979a07cd",
   "metadata": {},
   "outputs": [
    {
     "data": {
      "text/plain": [
       "2"
      ]
     },
     "execution_count": 8,
     "metadata": {},
     "output_type": "execute_result"
    }
   ],
   "source": [
    "a.ndim"
   ]
  },
  {
   "cell_type": "code",
   "execution_count": 9,
   "id": "8d4aa4e4-cb25-44ae-a267-411a0754057e",
   "metadata": {},
   "outputs": [
    {
     "data": {
      "text/plain": [
       "1"
      ]
     },
     "execution_count": 9,
     "metadata": {},
     "output_type": "execute_result"
    }
   ],
   "source": [
    " b= np.array([1,2,3,4,5])\n",
    "b.ndim"
   ]
  },
  {
   "cell_type": "code",
   "execution_count": 16,
   "id": "d5623a9a-729d-4e41-8c3b-bef9525a0071",
   "metadata": {},
   "outputs": [],
   "source": [
    "# accessing an elememt from a\n",
    "# a[m,n]\n",
    "# where m is the row number and n is the col number."
   ]
  },
  {
   "cell_type": "code",
   "execution_count": 14,
   "id": "be2d7298-135f-4d4b-a2e4-f8c900651662",
   "metadata": {},
   "outputs": [
    {
     "data": {
      "text/plain": [
       "2"
      ]
     },
     "execution_count": 14,
     "metadata": {},
     "output_type": "execute_result"
    }
   ],
   "source": [
    "a[0,1]"
   ]
  },
  {
   "cell_type": "code",
   "execution_count": 17,
   "id": "26ffc373-3546-4d2e-9f95-2912ad024fd2",
   "metadata": {},
   "outputs": [],
   "source": [
    "c = np.array([[[1,2,3],[4,5,6],[7,8,9]],[[2,3,6],[4,6,9],[-3,-5,-9]]])"
   ]
  },
  {
   "cell_type": "code",
   "execution_count": 18,
   "id": "53acb048-1a43-4e87-a309-74a7fe576e34",
   "metadata": {},
   "outputs": [
    {
     "data": {
      "text/plain": [
       "3"
      ]
     },
     "execution_count": 18,
     "metadata": {},
     "output_type": "execute_result"
    }
   ],
   "source": [
    "c.ndim"
   ]
  },
  {
   "cell_type": "code",
   "execution_count": 19,
   "id": "ec1decd6-9906-40a7-bf7b-4fd7fad30939",
   "metadata": {},
   "outputs": [
    {
     "data": {
      "text/plain": [
       "3"
      ]
     },
     "execution_count": 19,
     "metadata": {},
     "output_type": "execute_result"
    }
   ],
   "source": [
    "c[1,0,1]"
   ]
  },
  {
   "cell_type": "code",
   "execution_count": null,
   "id": "bdd50d67-660e-4a23-bbce-4afb643be737",
   "metadata": {},
   "outputs": [],
   "source": [
    "# shape function returns a tuple of the size of the array."
   ]
  },
  {
   "cell_type": "code",
   "execution_count": 27,
   "id": "5a6766ed-9c77-4c0c-ba13-622161180ea0",
   "metadata": {},
   "outputs": [
    {
     "name": "stdout",
     "output_type": "stream",
     "text": [
      "(2, 3, 3)\n"
     ]
    }
   ],
   "source": [
    "shape = c.shape\n",
    "print(shape)"
   ]
  },
  {
   "cell_type": "code",
   "execution_count": 32,
   "id": "933bebd8-1f7a-4728-a1a8-d6b198144c8d",
   "metadata": {},
   "outputs": [
    {
     "data": {
      "text/plain": [
       "3"
      ]
     },
     "execution_count": 32,
     "metadata": {},
     "output_type": "execute_result"
    }
   ],
   "source": [
    "c.shape[1]"
   ]
  },
  {
   "cell_type": "code",
   "execution_count": null,
   "id": "a1cd6118-4c57-4a6d-90fa-7eebc4c00c17",
   "metadata": {},
   "outputs": [],
   "source": [
    "# type() functon gives ty"
   ]
  },
  {
   "cell_type": "code",
   "execution_count": 33,
   "id": "a9fbb681-58b8-4e57-abdd-716474723a47",
   "metadata": {},
   "outputs": [
    {
     "data": {
      "text/plain": [
       "numpy.ndarray"
      ]
     },
     "execution_count": 33,
     "metadata": {},
     "output_type": "execute_result"
    }
   ],
   "source": [
    "type(c)"
   ]
  },
  {
   "cell_type": "code",
   "execution_count": null,
   "id": "dd2b14c2-9fc1-4464-8b77-31189d79efe8",
   "metadata": {},
   "outputs": [],
   "source": [
    "#sometimes you may get error here sa numpy is not imported after you came back to the notebook but there is nothing to worry about that. \n",
    "#it is not necessary to import it everytime . once imported , done fot the whole bunch of code."
   ]
  },
  {
   "cell_type": "code",
   "execution_count": 5,
   "id": "15a7b2ef-c108-497b-aeff-f06be360708a",
   "metadata": {},
   "outputs": [],
   "source": [
    "arr = np.array([[[1,2,3],[4,5,6]],[[1,3,5],[3,7,9]]])"
   ]
  },
  {
   "cell_type": "code",
   "execution_count": 6,
   "id": "fb8478d7-e123-443c-9d72-ce2453d0832c",
   "metadata": {},
   "outputs": [
    {
     "data": {
      "text/plain": [
       "3"
      ]
     },
     "execution_count": 6,
     "metadata": {},
     "output_type": "execute_result"
    }
   ],
   "source": [
    "arr.ndim"
   ]
  },
  {
   "cell_type": "code",
   "execution_count": 10,
   "id": "7940091b-86c4-4fcb-8c3c-c981133c433e",
   "metadata": {},
   "outputs": [
    {
     "ename": "ValueError",
     "evalue": "setting an array element with a sequence. The requested array has an inhomogeneous shape after 1 dimensions. The detected shape was (2,) + inhomogeneous part.",
     "output_type": "error",
     "traceback": [
      "\u001b[1;31m---------------------------------------------------------------------------\u001b[0m",
      "\u001b[1;31mValueError\u001b[0m                                Traceback (most recent call last)",
      "Cell \u001b[1;32mIn[10], line 2\u001b[0m\n\u001b[0;32m      1\u001b[0m \u001b[38;5;66;03m# if you are declaring a multidimensional array then the number of elements in the lists shuold be same otherwise you may get undesired result.\u001b[39;00m\n\u001b[1;32m----> 2\u001b[0m a\u001b[38;5;241m=\u001b[39m np\u001b[38;5;241m.\u001b[39marray([[\u001b[38;5;241m1\u001b[39m,\u001b[38;5;241m2\u001b[39m,\u001b[38;5;241m3\u001b[39m],[\u001b[38;5;241m1\u001b[39m,\u001b[38;5;241m2\u001b[39m,\u001b[38;5;241m3\u001b[39m,\u001b[38;5;241m2\u001b[39m]])\n",
      "\u001b[1;31mValueError\u001b[0m: setting an array element with a sequence. The requested array has an inhomogeneous shape after 1 dimensions. The detected shape was (2,) + inhomogeneous part."
     ]
    }
   ],
   "source": [
    "# if you are declaring a multidimensional array then the number of elements in the lists shuold be same otherwise you may get undesired result.\n",
    "a= np.array([[1,2,3],[1,2,3,2]])"
   ]
  },
  {
   "cell_type": "code",
   "execution_count": null,
   "id": "1a13d1a8-682d-40c5-843c-5289f34318ee",
   "metadata": {},
   "outputs": [],
   "source": [
    "#here i am adding 5 in the 0th row to equal the no. of elements in both rows."
   ]
  },
  {
   "cell_type": "code",
   "execution_count": 11,
   "id": "65fd81a9-83c7-491c-bd18-78f284ff5b95",
   "metadata": {},
   "outputs": [],
   "source": [
    "a= np.array([[1,2,3,5],[1,2,3,2]])"
   ]
  },
  {
   "cell_type": "code",
   "execution_count": 12,
   "id": "eab3aaf4-2018-4284-ae96-157e42befa62",
   "metadata": {},
   "outputs": [
    {
     "name": "stdout",
     "output_type": "stream",
     "text": [
      "[[1 2 3 5]\n",
      " [1 2 3 2]]\n"
     ]
    }
   ],
   "source": [
    "print(a)"
   ]
  },
  {
   "cell_type": "code",
   "execution_count": 15,
   "id": "48cb740d-68fa-40d9-8987-51b9ff21405d",
   "metadata": {},
   "outputs": [
    {
     "data": {
      "text/plain": [
       "3"
      ]
     },
     "execution_count": 15,
     "metadata": {},
     "output_type": "execute_result"
    }
   ],
   "source": [
    "# now lets try making a 3 dimensional array.\n",
    "a = np.array([[[1,2,5],[1,3,9]],[[-1,-2,-5],[-1,-3,-9]]])\n",
    "a.ndim"
   ]
  },
  {
   "cell_type": "code",
   "execution_count": 2,
   "id": "ad0638ca-40bf-4d68-a6a3-3384b6b036c4",
   "metadata": {},
   "outputs": [
    {
     "data": {
      "text/plain": [
       "'\\nlets discuss about the shape property.\\nShape returns a tuple.\\n'"
      ]
     },
     "execution_count": 2,
     "metadata": {},
     "output_type": "execute_result"
    }
   ],
   "source": [
    "\"\"\"\n",
    "lets discuss about the shape property.\n",
    "Shape returns a tuple.\n",
    "\"\"\""
   ]
  },
  {
   "cell_type": "code",
   "execution_count": 5,
   "id": "cbb7cedb-fa77-4ac0-ab29-b9502e2e196d",
   "metadata": {},
   "outputs": [
    {
     "data": {
      "text/plain": [
       "(2, 2, 3)"
      ]
     },
     "execution_count": 5,
     "metadata": {},
     "output_type": "execute_result"
    }
   ],
   "source": [
    "import numpy as np\n",
    "a = np.array([[[1,2,5],[1,3,9]],[[-1,-2,-5],[-1,-3,-9]]])\n",
    "a.shape\n"
   ]
  },
  {
   "cell_type": "code",
   "execution_count": 7,
   "id": "456a9630-39fc-4563-a7b4-1e675ac99c2a",
   "metadata": {},
   "outputs": [
    {
     "data": {
      "text/plain": [
       "' in the above result a.shape returns a tuple (2,2,3) which means a contains 2 2-dim array, each 2-dim array contrains 2 1-dim array\\nand each 1-dim array contains 3 elements.\\n'"
      ]
     },
     "execution_count": 7,
     "metadata": {},
     "output_type": "execute_result"
    }
   ],
   "source": [
    "\"\"\" in the above result a.shape returns a tuple (2,2,3) which means a contains 2 2-dim array, each 2-dim array contrains 2 1-dim array\n",
    "and each 1-dim array contains 3 elements.\n",
    "\"\"\""
   ]
  },
  {
   "cell_type": "code",
   "execution_count": 8,
   "id": "10025cbb-4c92-4143-b732-e9910c14e787",
   "metadata": {},
   "outputs": [
    {
     "data": {
      "text/plain": [
       "2"
      ]
     },
     "execution_count": 8,
     "metadata": {},
     "output_type": "execute_result"
    }
   ],
   "source": [
    "a.shape[0]"
   ]
  },
  {
   "cell_type": "code",
   "execution_count": 9,
   "id": "cb450766-8e7a-4bee-bfe4-60fb94f8fede",
   "metadata": {},
   "outputs": [
    {
     "data": {
      "text/plain": [
       "2"
      ]
     },
     "execution_count": 9,
     "metadata": {},
     "output_type": "execute_result"
    }
   ],
   "source": [
    "a.shape[1]"
   ]
  },
  {
   "cell_type": "code",
   "execution_count": 10,
   "id": "f2afb0f2-4bf3-4789-a22f-7178a77d0020",
   "metadata": {},
   "outputs": [
    {
     "data": {
      "text/plain": [
       "3"
      ]
     },
     "execution_count": 10,
     "metadata": {},
     "output_type": "execute_result"
    }
   ],
   "source": [
    "a.shape[2]"
   ]
  },
  {
   "cell_type": "code",
   "execution_count": null,
   "id": "fc16d8c8-99ce-4738-b220-4c53dfab974c",
   "metadata": {},
   "outputs": [],
   "source": [
    "# size gives the total number of elements present in the array."
   ]
  },
  {
   "cell_type": "code",
   "execution_count": 12,
   "id": "00cd7c3b-eaa4-47fe-9b7d-774c9ba88d22",
   "metadata": {},
   "outputs": [
    {
     "data": {
      "text/plain": [
       "12"
      ]
     },
     "execution_count": 12,
     "metadata": {},
     "output_type": "execute_result"
    }
   ],
   "source": [
    "a.size "
   ]
  },
  {
   "cell_type": "code",
   "execution_count": 13,
   "id": "3073bdd9-d868-4bc2-8de2-29c49ad6288b",
   "metadata": {},
   "outputs": [],
   "source": [
    "# similarly there is another property in numpy that gives the total size of the array in terms of bytes."
   ]
  },
  {
   "cell_type": "code",
   "execution_count": 14,
   "id": "ed66b992-e230-486b-b2de-68bea3ddb0c5",
   "metadata": {},
   "outputs": [
    {
     "data": {
      "text/plain": [
       "48"
      ]
     },
     "execution_count": 14,
     "metadata": {},
     "output_type": "execute_result"
    }
   ],
   "source": [
    "a.nbytes"
   ]
  },
  {
   "cell_type": "code",
   "execution_count": 31,
   "id": "263d319e-2b97-4330-b210-7f4b928d1826",
   "metadata": {},
   "outputs": [
    {
     "data": {
      "text/plain": [
       "'\\nhere we are creating an array using np.ones method that creates an array of the input size. All the elements of the array will be 1.\\nThe ones method is quite useful in initializing arrays for various numerical operations and is a fundamental function in the NumPy library.\\n the following code creates an array containing 4 rows and 10 columns.\\n '"
      ]
     },
     "execution_count": 31,
     "metadata": {},
     "output_type": "execute_result"
    }
   ],
   "source": [
    "\"\"\"\n",
    "here we are creating an array using np.ones method that creates an array of the input size. All the elements of the array will be 1.\n",
    "The ones method is quite useful in initializing arrays for various numerical operations and is a fundamental function in the NumPy library.\n",
    " the following code creates an array containing 4 rows and 10 columns.\n",
    " \"\"\""
   ]
  },
  {
   "cell_type": "code",
   "execution_count": 27,
   "id": "5ebf6cab-8582-484a-823a-9028c25fcf4a",
   "metadata": {},
   "outputs": [
    {
     "name": "stdout",
     "output_type": "stream",
     "text": [
      "[[1 1 1 1 1 1 1 1 1 1]\n",
      " [1 1 1 1 1 1 1 1 1 1]\n",
      " [1 1 1 1 1 1 1 1 1 1]\n",
      " [1 1 1 1 1 1 1 1 1 1]]\n"
     ]
    }
   ],
   "source": [
    "b= np.ones((4,10),dtype=int)\n",
    "print(b)"
   ]
  },
  {
   "cell_type": "code",
   "execution_count": null,
   "id": "a9624d3e-85b1-441a-a9b5-aeacc373cb9f",
   "metadata": {},
   "outputs": [],
   "source": [
    "# arange function creates an array upto the number given in its argument."
   ]
  },
  {
   "cell_type": "code",
   "execution_count": 18,
   "id": "40f8cf88-804c-4428-8da0-a298fc2e73cc",
   "metadata": {},
   "outputs": [
    {
     "name": "stdout",
     "output_type": "stream",
     "text": [
      "[ 0  1  2  3  4  5  6  7  8  9 10 11 12 13 14 15 16 17 18 19 20 21 22 23\n",
      " 24 25 26 27 28 29 30 31 32 33 34 35 36 37 38 39 40 41 42 43 44 45 46 47\n",
      " 48 49]\n"
     ]
    }
   ],
   "source": [
    "C = np.arange(50)\n",
    "print(C)"
   ]
  },
  {
   "cell_type": "code",
   "execution_count": 19,
   "id": "ffc1f6af-0348-428e-b72e-9ab7dbad1c84",
   "metadata": {},
   "outputs": [
    {
     "name": "stdout",
     "output_type": "stream",
     "text": [
      "[20 25 30 35 40 45 50 55 60 65 70 75 80 85 90 95]\n"
     ]
    }
   ],
   "source": [
    "# we can also manpulate this array formation as per our need by changing the args value.\n",
    "C = np.arange(20,100,5)\n",
    "print(C)"
   ]
  },
  {
   "cell_type": "code",
   "execution_count": 20,
   "id": "a5ae9047-48ab-41bc-8046-728d91a875d3",
   "metadata": {},
   "outputs": [],
   "source": [
    "#in the above rersult we tried to create an array that starts from 20 , ends at 100 and proceeds by taking jump of 5."
   ]
  },
  {
   "cell_type": "code",
   "execution_count": null,
   "id": "e2e5eb0b-3083-4cd1-943d-de4ec5521760",
   "metadata": {},
   "outputs": [],
   "source": [
    "\"\"\"\n",
    "now lets learn how to shuffle data in an array using numoy methods.\n",
    "To to so, we can use np.random.permutation function. its implementation is shown below.\n",
    "\"\"\""
   ]
  },
  {
   "cell_type": "code",
   "execution_count": 4,
   "id": "39f8f33f-88e5-4b11-a511-98316ee752ce",
   "metadata": {},
   "outputs": [
    {
     "name": "stdout",
     "output_type": "stream",
     "text": [
      "[93 76  5 84 59 85 60 37 10 48 15 78 20 50 83 70 98 17 64 72 94 46 99 65\n",
      " 82 16 43 41 36 47  6  3 18 45 30 54  8 77 90 63 25 21 19  0  2 75  7 42\n",
      " 62 74 44 69 22 11 79 68 67 51 91 80 97 35 55 52 39 58 34 33 40  4 89 56\n",
      " 61 53 95 26 23 32 71 28 31 57 88  9 81 49 29 13 86 92 12 87 24  1 73 14\n",
      " 38 96 27 66]\n"
     ]
    }
   ],
   "source": [
    "import numpy as np\n",
    "a = np.arange(100)\n",
    "A = np.random.permutation(a)\n",
    "print(A)"
   ]
  },
  {
   "cell_type": "code",
   "execution_count": 6,
   "id": "7bb7504b-19c7-49af-ad93-c9fc0651715c",
   "metadata": {},
   "outputs": [],
   "source": [
    "\"\"\" under random method we have a lot of ither functions too. Suppose you want to get a random number number between 1 and 100. \n",
    "to do that we can use np.randoom.randint() method.\"\"\""
   ]
  },
  {
   "cell_type": "code",
   "execution_count": 10,
   "id": "2131c668-1be1-4693-b2bc-934342c47054",
   "metadata": {},
   "outputs": [
    {
     "name": "stdout",
     "output_type": "stream",
     "text": [
      "25\n",
      "<class 'int'>\n"
     ]
    }
   ],
   "source": [
    "random_int = np.random.randint(1,100)\n",
    "print(random_int)\n",
    "print(type(random_int))"
   ]
  },
  {
   "cell_type": "code",
   "execution_count": null,
   "id": "42d8b085-dbf5-4f32-850a-4654af6fe06c",
   "metadata": {},
   "outputs": [],
   "source": [
    "\"\"\" if we want to create a random matrtix of any order then we can use random.rand method.\n",
    "it returns a random matrix of the order that you passed as an args in it. \"\"\""
   ]
  },
  {
   "cell_type": "code",
   "execution_count": 23,
   "id": "02528851-8f1e-4609-a4b3-67243fc6b2fd",
   "metadata": {},
   "outputs": [
    {
     "name": "stdout",
     "output_type": "stream",
     "text": [
      "[[0.26779071 0.10649595 0.73068877]\n",
      " [0.14109981 0.59126058 0.69462395]]\n"
     ]
    }
   ],
   "source": [
    "C = np.random.rand(2,3)\n",
    "print(C)"
   ]
  },
  {
   "cell_type": "code",
   "execution_count": 16,
   "id": "576a09e9-ab0c-483e-81a6-47eea9a94922",
   "metadata": {},
   "outputs": [],
   "source": [
    "# Another important function in numpy library is reshape function which can be used to produce any shape of array from an existing array. "
   ]
  },
  {
   "cell_type": "code",
   "execution_count": 13,
   "id": "e35ff570-da12-4b7d-8152-8386a45b0b7d",
   "metadata": {},
   "outputs": [],
   "source": [
    "a = np.arange(20)"
   ]
  },
  {
   "cell_type": "code",
   "execution_count": null,
   "id": "4feb5dc8-db89-4962-9c42-2adb9b6867d1",
   "metadata": {},
   "outputs": [],
   "source": [
    "# here i am using reshape method to get a new array having 4 rows and 5 columns out of array 'a'."
   ]
  },
  {
   "cell_type": "code",
   "execution_count": 14,
   "id": "7d6bf0a8-8556-4608-b0fc-5606d5646e13",
   "metadata": {},
   "outputs": [],
   "source": [
    "b= np.reshape(a,(4,5))"
   ]
  },
  {
   "cell_type": "code",
   "execution_count": 15,
   "id": "c5cad4fa-d41d-4987-8387-701bc28a854b",
   "metadata": {},
   "outputs": [
    {
     "name": "stdout",
     "output_type": "stream",
     "text": [
      "[[ 0  1  2  3  4]\n",
      " [ 5  6  7  8  9]\n",
      " [10 11 12 13 14]\n",
      " [15 16 17 18 19]]\n"
     ]
    }
   ],
   "source": [
    "print(b)"
   ]
  },
  {
   "cell_type": "code",
   "execution_count": 31,
   "id": "883f7c5f-7f41-49fc-acfd-1b2f5dcecbe8",
   "metadata": {},
   "outputs": [
    {
     "name": "stdout",
     "output_type": "stream",
     "text": [
      "[ 0  1  2  3  4  5  6  7  8  9 10 11 12 13 14 15 16 17 18 19 20 21 22 23\n",
      " 24 25 26 27 28 29]\n"
     ]
    }
   ],
   "source": [
    "x = np.arange(30)\n",
    "print(x)"
   ]
  },
  {
   "cell_type": "code",
   "execution_count": null,
   "id": "62127d4b-1778-4910-9a38-e2e7dfac9e45",
   "metadata": {},
   "outputs": [],
   "source": [
    "# creating 3 dimensional array from x."
   ]
  },
  {
   "cell_type": "code",
   "execution_count": 33,
   "id": "881f7547-831b-4d41-95ca-f4b7e5af265e",
   "metadata": {},
   "outputs": [
    {
     "name": "stdout",
     "output_type": "stream",
     "text": [
      "[[[ 0  1  2  3  4]\n",
      "  [ 5  6  7  8  9]\n",
      "  [10 11 12 13 14]]\n",
      "\n",
      " [[15 16 17 18 19]\n",
      "  [20 21 22 23 24]\n",
      "  [25 26 27 28 29]]]\n"
     ]
    }
   ],
   "source": [
    "y = np.reshape(x,(2,3,5))\n",
    "print(y)"
   ]
  },
  {
   "cell_type": "code",
   "execution_count": 34,
   "id": "bab5fa8b-1438-4d29-9f95-1628d24d8712",
   "metadata": {},
   "outputs": [
    {
     "data": {
      "text/plain": [
       "3"
      ]
     },
     "execution_count": 34,
     "metadata": {},
     "output_type": "execute_result"
    }
   ],
   "source": [
    "y.ndim"
   ]
  },
  {
   "cell_type": "code",
   "execution_count": 2,
   "id": "d13f38c7-15c9-4813-b586-e0c4af931f74",
   "metadata": {},
   "outputs": [
    {
     "name": "stdout",
     "output_type": "stream",
     "text": [
      "[1 2 3]\n"
     ]
    }
   ],
   "source": [
    "import numpy as np\n",
    "a= np.array([1,2,3])\n",
    "print(a)"
   ]
  },
  {
   "cell_type": "code",
   "execution_count": 2,
   "id": "bfea5ac4-0bbf-4436-a1db-872f2b7f5a4b",
   "metadata": {},
   "outputs": [],
   "source": [
    "import numpy as np\n",
    "b=np.array([[1,2,3,4,5], [6,7,8,9,0]])"
   ]
  },
  {
   "cell_type": "code",
   "execution_count": 4,
   "id": "7cce40c0-bbb3-40ec-95c7-e44a8202a624",
   "metadata": {},
   "outputs": [
    {
     "data": {
      "text/plain": [
       "4"
      ]
     },
     "execution_count": 4,
     "metadata": {},
     "output_type": "execute_result"
    }
   ],
   "source": [
    "# getting an element, here getting element of first row and fourth column\n",
    "b[0,3]"
   ]
  },
  {
   "cell_type": "code",
   "execution_count": 6,
   "id": "ca91af96-4ce1-4918-83b9-142e042ac9e6",
   "metadata": {},
   "outputs": [
    {
     "data": {
      "text/plain": [
       "array([1, 2, 3, 4, 5])"
      ]
     },
     "execution_count": 6,
     "metadata": {},
     "output_type": "execute_result"
    }
   ],
   "source": [
    "# getting s[ecific row or col\n",
    "b[0, :]"
   ]
  },
  {
   "cell_type": "code",
   "execution_count": 7,
   "id": "3413ee95-b254-465c-b51c-332e5be4ff60",
   "metadata": {},
   "outputs": [
    {
     "data": {
      "text/plain": [
       "array([3, 8])"
      ]
     },
     "execution_count": 7,
     "metadata": {},
     "output_type": "execute_result"
    }
   ],
   "source": [
    "b[ :, 2]"
   ]
  },
  {
   "cell_type": "code",
   "execution_count": 10,
   "id": "9029a337-3c42-4365-87d2-cbf7c530b69b",
   "metadata": {},
   "outputs": [
    {
     "data": {
      "text/plain": [
       "array([2, 4])"
      ]
     },
     "execution_count": 10,
     "metadata": {},
     "output_type": "execute_result"
    }
   ],
   "source": [
    "# a little fancy way to manipulate the elements can be:\n",
    "# b[row, start:end:stepsize]\n",
    "\n",
    "b[0, 1:4:2]\n",
    "# note that end idx is exclusive. here 4th idx points to element 5 so its exclusive."
   ]
  },
  {
   "cell_type": "code",
   "execution_count": 11,
   "id": "3fff5270-481c-497e-b0b7-871a97154423",
   "metadata": {},
   "outputs": [
    {
     "name": "stdout",
     "output_type": "stream",
     "text": [
      "[[ 1  2 10  4  5]\n",
      " [ 6  7  8  9  0]]\n"
     ]
    }
   ],
   "source": [
    "# changing a particular element or a complete row or col\n",
    "b[0,2] = 10 \n",
    "print(b)"
   ]
  },
  {
   "cell_type": "code",
   "execution_count": 13,
   "id": "e2f9dc8b-c868-4191-9244-7ba76f331e1b",
   "metadata": {},
   "outputs": [
    {
     "name": "stdout",
     "output_type": "stream",
     "text": [
      "[[ 1 10 10  4  5]\n",
      " [ 6 12  8  9  0]]\n"
     ]
    }
   ],
   "source": [
    "b[ :,1]=[10,12]\n",
    "print(b)\n",
    "# here 2nd item of every row is changed."
   ]
  },
  {
   "cell_type": "code",
   "execution_count": 14,
   "id": "d3d9752a-6926-4625-a798-cefcd49a1c72",
   "metadata": {},
   "outputs": [],
   "source": [
    "# 3dim array\n",
    "arr = np.array([\n",
    "    [[1, 2, 3],\n",
    "     [4, 5, 6]],\n",
    "\n",
    "    [[7, 8, 9],\n",
    "     [10, 11, 12]]\n",
    "])"
   ]
  },
  {
   "cell_type": "code",
   "execution_count": 15,
   "id": "a641870d-5f74-4927-9422-bb89667ab30a",
   "metadata": {},
   "outputs": [
    {
     "data": {
      "text/plain": [
       "' This creates a 3D array of shape (2, 2, 3):\\n\\n2 blocks (or depth slices)\\n\\nEach block has 2 rows\\n\\nEach row has 3 columns '"
      ]
     },
     "execution_count": 15,
     "metadata": {},
     "output_type": "execute_result"
    }
   ],
   "source": [
    "''' This creates a 3D array of shape (2, 2, 3):\n",
    "\n",
    "2 blocks (or depth slices)\n",
    "\n",
    "Each block has 2 rows \n",
    "Each row has 3 columns '''"
   ]
  },
  {
   "cell_type": "code",
   "execution_count": 16,
   "id": "d68a21e2-f442-465e-a3f1-45f91e4ca741",
   "metadata": {},
   "outputs": [
    {
     "data": {
      "text/plain": [
       "8"
      ]
     },
     "execution_count": 16,
     "metadata": {},
     "output_type": "execute_result"
    }
   ],
   "source": [
    "arr[0, 0, 0]  # Output: 1  => First block, first row, first column\n",
    "arr[0, 1, 2]  # Output: 6  => First block, second row, third column\n",
    "arr[1, 0, 1] # Output: 8 => second block, first row, second column"
   ]
  },
  {
   "cell_type": "code",
   "execution_count": 22,
   "id": "efb336c3-ce41-41ed-97c5-bc3543489a18",
   "metadata": {},
   "outputs": [
    {
     "data": {
      "text/plain": [
       "' Problem statement: Create the given matrix using only numpy.\\n[1 1 1 1 1]\\n [1 0 0 0 1]\\n [1 0 9 0 1]\\n [1 0 0 0 1]\\n [1 1 1 1 1]\\n'"
      ]
     },
     "execution_count": 22,
     "metadata": {},
     "output_type": "execute_result"
    }
   ],
   "source": [
    "''' Problem statement: Create the given matrix using only numpy.\n",
    "[1 1 1 1 1]\n",
    " [1 0 0 0 1]\n",
    " [1 0 9 0 1]\n",
    " [1 0 0 0 1]\n",
    " [1 1 1 1 1]\n",
    "'''"
   ]
  },
  {
   "cell_type": "code",
   "execution_count": 21,
   "id": "63cc741f-9e90-4156-bbda-aa44a58300ee",
   "metadata": {},
   "outputs": [
    {
     "name": "stdout",
     "output_type": "stream",
     "text": [
      "[[1 1 1 1 1]\n",
      " [1 0 0 0 1]\n",
      " [1 0 9 0 1]\n",
      " [1 0 0 0 1]\n",
      " [1 1 1 1 1]]\n"
     ]
    }
   ],
   "source": [
    "# practice question\n",
    "output = np.ones((5,5), dtype='int32')\n",
    "z = np.zeros((3,3))\n",
    "z[1,1] = 9\n",
    "output[1:-1, 1:-1] = z\n",
    "print(output)"
   ]
  },
  {
   "cell_type": "code",
   "execution_count": 1,
   "id": "d17d192c-393b-4b94-91dd-8d74dce6dfea",
   "metadata": {},
   "outputs": [],
   "source": [
    "####  Boolean masking and adavnced Indexing"
   ]
  },
  {
   "cell_type": "code",
   "execution_count": 11,
   "id": "a9c0770e-a456-490d-952a-905e8f746a2f",
   "metadata": {},
   "outputs": [
    {
     "data": {
      "text/plain": [
       "array([  1,   2,   3,   4,   5,   6,   7,   7,   8,   9,  12,  13,  15,\n",
       "        36,  37,  39,  20,  40,  42,  44,  45,  50,  52,  61,  72,  65,\n",
       "        77,  88,  81,  90,  95,  19, 100, 123,  34,  51, 199, 145, 300])"
      ]
     },
     "execution_count": 11,
     "metadata": {},
     "output_type": "execute_result"
    }
   ],
   "source": [
    "import numpy as np\n",
    "filedata = np.genfromtxt('data.txt', delimiter=',')\n",
    "filedata = filedata.astype('int32')\n",
    "filedata"
   ]
  },
  {
   "cell_type": "code",
   "execution_count": 12,
   "id": "65ce063a-a0cd-4ed6-a556-f9918c96eafe",
   "metadata": {},
   "outputs": [
    {
     "name": "stdout",
     "output_type": "stream",
     "text": [
      "[[  1   2   3   4   5   6   7   7   8   9  12  13  15]\n",
      " [ 36  37  39  20  40  42  44  45  50  52  61  72  65]\n",
      " [ 77  88  81  90  95  19 100 123  34  51 199 145 300]]\n"
     ]
    }
   ],
   "source": [
    "arr = filedata.reshape(3,13)\n",
    "print(arr)"
   ]
  },
  {
   "cell_type": "code",
   "execution_count": 9,
   "id": "fb479cbb-3728-47fe-a6ec-277eb1890d76",
   "metadata": {},
   "outputs": [
    {
     "data": {
      "text/plain": [
       "array([False, False, False, False, False, False, False, False, False,\n",
       "       False, False, False, False, False, False, False, False, False,\n",
       "        True,  True,  True, False, False, False, False, False, False,\n",
       "       False, False, False, False, False, False, False, False, False])"
      ]
     },
     "execution_count": 9,
     "metadata": {},
     "output_type": "execute_result"
    }
   ],
   "source": [
    "(filedata > 40) &(filedata<50)"
   ]
  },
  {
   "cell_type": "code",
   "execution_count": 13,
   "id": "4be9e1dd-e66c-4a05-8db6-52bea1c63b1c",
   "metadata": {},
   "outputs": [
    {
     "data": {
      "text/plain": [
       "array([ True,  True,  True,  True,  True, False,  True,  True, False,\n",
       "        True,  True,  True,  True])"
      ]
     },
     "execution_count": 13,
     "metadata": {},
     "output_type": "execute_result"
    }
   ],
   "source": [
    "# to find if any value in a col is greater than 40\n",
    "np.any(arr>50, axis=0)"
   ]
  },
  {
   "cell_type": "code",
   "execution_count": null,
   "id": "6a934cef-6d1a-4af0-8dc7-8d4b017e0470",
   "metadata": {},
   "outputs": [],
   "source": []
  },
  {
   "cell_type": "code",
   "execution_count": null,
   "id": "b8abbe43-e5ed-4e96-a87e-d518c68601e3",
   "metadata": {},
   "outputs": [],
   "source": []
  },
  {
   "cell_type": "code",
   "execution_count": null,
   "id": "4c3dc25a-c204-45a4-9224-e7d198c7b62f",
   "metadata": {},
   "outputs": [],
   "source": []
  },
  {
   "cell_type": "code",
   "execution_count": null,
   "id": "95b35095-131d-4b1f-bb53-6b7540c3ca52",
   "metadata": {},
   "outputs": [],
   "source": [
    "## this is it brother... I hope it helps you in your learing journey..Bye"
   ]
  }
 ],
 "metadata": {
  "kernelspec": {
   "display_name": "Python 3 (ipykernel)",
   "language": "python",
   "name": "python3"
  },
  "language_info": {
   "codemirror_mode": {
    "name": "ipython",
    "version": 3
   },
   "file_extension": ".py",
   "mimetype": "text/x-python",
   "name": "python",
   "nbconvert_exporter": "python",
   "pygments_lexer": "ipython3",
   "version": "3.12.4"
  }
 },
 "nbformat": 4,
 "nbformat_minor": 5
}
